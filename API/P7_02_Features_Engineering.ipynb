{
 "cells": [
  {
   "cell_type": "markdown",
   "metadata": {},
   "source": [
    "# Data Scientist - P7 - Laurent Trichet\n",
    "\n",
    "## Implémentez un modèle de scoring\n",
    "\n",
    "## 2 Feature Engineering - Fill nan, joining data"
   ]
  },
  {
   "cell_type": "markdown",
   "metadata": {},
   "source": [
    "### Import required libraries - Constants"
   ]
  },
  {
   "cell_type": "markdown",
   "metadata": {},
   "source": [
    "#### Execute this notebook with NUMROWS=15000 (Classification optimization), and NUMROWS=1000000 (>360000 = full dataset) for API Model creation"
   ]
  },
  {
   "cell_type": "code",
   "execution_count": 1,
   "metadata": {},
   "outputs": [],
   "source": [
    "# Import default libraries\n",
    "import pandas as pd\n",
    "import numpy as np\n",
    "import os\n",
    "import matplotlib as mpl\n",
    "import matplotlib.pyplot as plt\n",
    "import seaborn as sns\n",
    "\n",
    "# Import Garbage Collector (empty dataFrame memory)\n",
    "import gc\n",
    "\n",
    "# tools for execution time estimates\n",
    "from datetime import datetime\n",
    "\n",
    "# Remove some warnings\n",
    "import warnings\n",
    "warnings.filterwarnings('ignore')\n",
    "\n",
    "# Pandas parameters\n",
    "pd.set_option('display.max_columns', None)\n",
    "pd.set_option('display.max_colwidth', 120)\n",
    "pd.set_option('display.max_info_rows', 2000)\n",
    "\n",
    "# Matplotlib and sns visual parameters\n",
    "# sns.set_palette(\"Set2\")\n",
    "sns.set_style('whitegrid')\n",
    "sns.set_context('paper')\n",
    "mpl.rcParams['axes.labelsize'] = 14\n",
    "mpl.rcParams['axes.titlesize'] = 16\n",
    "mpl.rcParams['xtick.labelsize'] = 11\n",
    "mpl.rcParams['ytick.labelsize'] = 11\n",
    "\n",
    "# Constants\n",
    "DIRSOURCE = '../Sources/'\n",
    "DIRRESULT = './credithome_datasets/'\n",
    "NUMROWS = 15000    # 1000000 to get complete dateset\n",
    "# File names with NUMROWS lines and Fill nan with zeros\n",
    "FILESTD_FNAN0 = DIRRESULT+'Credit_Home_Junction_Std_Fnan0_'+str(NUMROWS)+'.csv'\n",
    "FILELOG_FNAN0 = DIRRESULT+'Credit_Home_Junction_Log_Fnan0_'+str(NUMROWS)+'.csv'\n"
   ]
  },
  {
   "cell_type": "markdown",
   "metadata": {},
   "source": [
    "### 2.1 Functions files reading, grouping information before joints"
   ]
  },
  {
   "cell_type": "code",
   "execution_count": 2,
   "metadata": {},
   "outputs": [],
   "source": [
    "# One-hot encoding for categorical columns with get_dummies\n",
    "def one_hot_encoder(df, nan_as_category=True):\n",
    "    original_columns = list(df.columns)\n",
    "    categorical_columns = [col for col in df.columns \\\n",
    "                               if df[col].dtype == 'object'\n",
    "                          ]\n",
    "    df = pd.get_dummies(df,\n",
    "                        columns= categorical_columns,\n",
    "                        dummy_na=nan_as_category\n",
    "                        )\n",
    "    new_columns = [c for c in df.columns \\\n",
    "                     if c not in original_columns\n",
    "                  ]\n",
    "    return df, new_columns\n"
   ]
  },
  {
   "cell_type": "code",
   "execution_count": 3,
   "metadata": {},
   "outputs": [],
   "source": [
    "# Preprocess application_train.csv and application_test.csv\n",
    "def application_train_test(num_rows=None, nan_as_category=False):\n",
    "    # Read data and merge\n",
    "    df = pd.read_csv(DIRSOURCE+'application_train.csv', nrows=num_rows,\n",
    "                     encoding='Latin-1')\n",
    "    test_df = pd.read_csv(DIRSOURCE+'application_test.csv', nrows=num_rows,\n",
    "                     encoding='Latin-1')\n",
    "    df = df.append(test_df).reset_index()\n",
    "     \n",
    "    # Remove 4 applications with XNA CODE_GENDER (train set)\n",
    "    df = df[df['CODE_GENDER'] != 'XNA']\n",
    "    \n",
    "    # Remove 1 application with -1 REGION_RATING_CLIENT_W_CITY (test set)\n",
    "    df = df[df['REGION_RATING_CLIENT_W_CITY'] != -1]\n",
    "    \n",
    "    # Remove 1 application with 0 FLAG_MOBILE (test set).\n",
    "    # Remove column FLAG_MOBIL (always = 1)\n",
    "    df = df[df['FLAG_MOBIL'] == 1]\n",
    "    df = df.drop(['FLAG_MOBIL'], axis=1)\n",
    "    \n",
    "    # Categorical features with Binary encode (0 or 1; two categories)\n",
    "    for bin_feature in ['CODE_GENDER', 'FLAG_OWN_CAR', 'FLAG_OWN_REALTY']:\n",
    "        df[bin_feature], uniques = pd.factorize(df[bin_feature])\n",
    "    # Categorical features with One-Hot encode\n",
    "    df, cat_cols = one_hot_encoder(df, nan_as_category=nan_as_category)\n",
    "    \n",
    "    # NaN values for DAYS_EMPLOYED: 365.243 -> nan\n",
    "    df['DAYS_EMPLOYED'].replace(365243, np.nan, inplace= True)\n",
    "    \n",
    "    # Replace days birth with years birth\n",
    "    df['DAYS_BIRTH'] = df['DAYS_BIRTH'] // 365 \n",
    "    \n",
    "    # Some simple new features (percentages)\n",
    "    # REMOVED, RISK OF DIVISOR = 0\n",
    "    # df['DAYS_EMPLOYED_PERC'] = df['DAYS_EMPLOYED'] / df['DAYS_BIRTH']\n",
    "    # df['INCOME_CREDIT_PERC'] = df['AMT_INCOME_TOTAL'] / df['AMT_CREDIT']\n",
    "    # df['INCOME_PER_PERSON'] = df['AMT_INCOME_TOTAL'] / df['CNT_FAM_MEMBERS']\n",
    "    # df['ANNUITY_INCOME_PERC'] = df['AMT_ANNUITY'] / df['AMT_INCOME_TOTAL']\n",
    "    # df['PAYMENT_RATE'] = df['AMT_ANNUITY'] / df['AMT_CREDIT']\n",
    "    \n",
    "    del test_df\n",
    "    gc.collect()\n",
    "    return df\n"
   ]
  },
  {
   "cell_type": "code",
   "execution_count": 4,
   "metadata": {},
   "outputs": [],
   "source": [
    "# Preprocess bureau.csv and bureau_balance.csv\n",
    "def bureau_and_balance(nan_as_category=True):\n",
    "    bureau = pd.read_csv(DIRSOURCE+'bureau.csv', encoding='Latin-1')\n",
    "    bb = pd.read_csv(DIRSOURCE+'bureau_balance.csv', encoding='Latin-1')\n",
    "    \n",
    "    bb, bb_cat = one_hot_encoder(bb,\n",
    "                                 nan_as_category=nan_as_category)\n",
    "    bureau, bureau_cat = one_hot_encoder(bureau,\n",
    "                                         nan_as_category=nan_as_category)\n",
    "    \n",
    "    # Bureau balance: Perform aggregations & merge with bureau.csv\n",
    "    bb_aggregations = {'MONTHS_BALANCE': ['min', 'max', 'size']}\n",
    "    for col in bb_cat:\n",
    "        bb_aggregations[col] = ['mean']\n",
    "    bb_agg = bb.groupby('SK_ID_BUREAU')\\\n",
    "               .agg(bb_aggregations)\n",
    "    bb_agg.columns = pd.Index([e[0] + \"_\" + e[1].upper() \\\n",
    "                              for e in bb_agg.columns.tolist()])\n",
    "    bureau = bureau.join(bb_agg, how='left', on='SK_ID_BUREAU')\n",
    "    bureau.drop(['SK_ID_BUREAU'], axis=1, inplace= True)\n",
    "    del bb, bb_agg\n",
    "    gc.collect()\n",
    "    \n",
    "    # Bureau and bureau_balance numeric features\n",
    "    num_aggregations = {\n",
    "        'DAYS_CREDIT': ['min', 'max', 'mean', 'var'],\n",
    "        'DAYS_CREDIT_ENDDATE': ['min', 'max', 'mean'],\n",
    "        'DAYS_CREDIT_UPDATE': ['mean'],\n",
    "        'CREDIT_DAY_OVERDUE': ['max', 'mean'],\n",
    "        'AMT_CREDIT_MAX_OVERDUE': ['mean'],\n",
    "        'AMT_CREDIT_SUM': ['max', 'mean', 'sum'],\n",
    "        'AMT_CREDIT_SUM_DEBT': ['max', 'mean', 'sum'],\n",
    "        'AMT_CREDIT_SUM_OVERDUE': ['mean'],\n",
    "        'AMT_CREDIT_SUM_LIMIT': ['mean', 'sum'],\n",
    "        'AMT_ANNUITY': ['max', 'mean'],\n",
    "        'CNT_CREDIT_PROLONG': ['sum'],\n",
    "        'MONTHS_BALANCE_MIN': ['min'],\n",
    "        'MONTHS_BALANCE_MAX': ['max'],\n",
    "        'MONTHS_BALANCE_SIZE': ['mean', 'sum']\n",
    "    }\n",
    "    \n",
    "    # Bureau and bureau_balance categorical features\n",
    "    cat_aggregations = {}\n",
    "    for cat in bureau_cat: cat_aggregations[cat] = ['mean']\n",
    "    for cat in bb_cat: cat_aggregations[cat + \"_MEAN\"] = ['mean']\n",
    "    \n",
    "    bureau_agg = bureau.groupby('SK_ID_CURR')\\\n",
    "                       .agg({**num_aggregations, **cat_aggregations})\n",
    "    bureau_agg.columns = pd.Index(['BURO_' + e[0] + \"_\" + e[1].upper() \\\n",
    "                                  for e in bureau_agg.columns.tolist()])\n",
    "    \n",
    "    # Bureau: Active credits - using only numerical aggregations\n",
    "    active = bureau[bureau['CREDIT_ACTIVE_Active'] == 1]\n",
    "    active_agg = active.groupby('SK_ID_CURR').agg(num_aggregations)\n",
    "    active_agg.columns = pd.Index(['ACTIVE_' + e[0] + \"_\" + e[1].upper() \\\n",
    "                                  for e in active_agg.columns.tolist()])\n",
    "    bureau_agg = bureau_agg.join(active_agg, how='left', on='SK_ID_CURR')\n",
    "    del active, active_agg\n",
    "    gc.collect()\n",
    "    \n",
    "    # Bureau: Closed credits - using only numerical aggregations\n",
    "    closed = bureau[bureau['CREDIT_ACTIVE_Closed'] == 1]\n",
    "    closed_agg = closed.groupby('SK_ID_CURR').agg(num_aggregations)\n",
    "    closed_agg.columns = pd.Index(['CLOSED_' + e[0] + \"_\" + e[1].upper() \\\n",
    "                                  for e in closed_agg.columns.tolist()])\n",
    "    bureau_agg = bureau_agg.join(closed_agg, how='left', on='SK_ID_CURR')\n",
    "    del closed, closed_agg, bureau\n",
    "    gc.collect()\n",
    "    return bureau_agg\n"
   ]
  },
  {
   "cell_type": "code",
   "execution_count": 5,
   "metadata": {},
   "outputs": [],
   "source": [
    "# Preprocess previous_applications.csv\n",
    "def previous_applications(nan_as_category=True, col_log=False):\n",
    "    if not col_log:\n",
    "        prev = pd.read_csv(DIRSOURCE+'previous_application.csv',\n",
    "                           encoding='Latin-1')\n",
    "    else:\n",
    "        prev = pd.read_csv(DIRSOURCE+'previous_application_log.csv',\n",
    "                           encoding='Latin-1', sep='\\t')\n",
    "\n",
    "    prev, cat_cols = one_hot_encoder(prev,\n",
    "                                     nan_as_category=nan_as_category)\n",
    "    \n",
    "    # Days 365.243 values -> nan\n",
    "    prev['DAYS_FIRST_DRAWING'].replace(365243, np.nan, inplace= True)\n",
    "    prev['DAYS_FIRST_DUE'].replace(365243, np.nan, inplace= True)\n",
    "    prev['DAYS_LAST_DUE_1ST_VERSION'].replace(365243, np.nan, inplace= True)\n",
    "    prev['DAYS_LAST_DUE'].replace(365243, np.nan, inplace= True)\n",
    "    prev['DAYS_TERMINATION'].replace(365243, np.nan, inplace= True)\n",
    "    \n",
    "    # Add feature: value ask / value received percentage\n",
    "    # REMOVED, RISK OF DIVISOR = 0\n",
    "    # prev['APP_CREDIT_PERC'] = prev['AMT_APPLICATION'] / prev['AMT_CREDIT']\n",
    "    \n",
    "    # Previous applications numeric features\n",
    "    num_aggregations = {\n",
    "        'AMT_ANNUITY': ['min', 'max', 'mean'],\n",
    "        'AMT_APPLICATION': ['min', 'max', 'mean'],\n",
    "        'AMT_CREDIT': ['min', 'max', 'mean'],\n",
    "        # 'APP_CREDIT_PERC': ['min', 'max', 'mean', 'var'],\n",
    "        'AMT_DOWN_PAYMENT': ['min', 'max', 'mean'],\n",
    "        'AMT_GOODS_PRICE': ['min', 'max', 'mean'],\n",
    "        'HOUR_APPR_PROCESS_START': ['min', 'max', 'mean'],\n",
    "        'RATE_DOWN_PAYMENT': ['min', 'max', 'mean'],\n",
    "        'DAYS_DECISION': ['min', 'max', 'mean'],\n",
    "        'CNT_PAYMENT': ['mean', 'sum'],\n",
    "    }\n",
    "    \n",
    "    # Previous applications categorical features\n",
    "    cat_aggregations = {}\n",
    "    for cat in cat_cols:\n",
    "        cat_aggregations[cat] = ['mean']\n",
    "    \n",
    "    prev_agg = prev.groupby('SK_ID_CURR')\\\n",
    "                   .agg({**num_aggregations, **cat_aggregations})\n",
    "    prev_agg.columns = pd.Index(['PREV_' + e[0] + \"_\" + e[1].upper() \\\n",
    "                                for e in prev_agg.columns.tolist()])\n",
    "    \n",
    "    # Previous Applications: Approved Applications - only numerical features\n",
    "    approved = prev[prev['NAME_CONTRACT_STATUS_Approved'] == 1]\n",
    "    approved_agg = approved.groupby('SK_ID_CURR').agg(num_aggregations)\n",
    "    approved_agg.columns = pd.Index(['APPROVED_' + e[0] + \"_\" + e[1].upper() \\\n",
    "                                    for e in approved_agg.columns.tolist()])\n",
    "    prev_agg = prev_agg.join(approved_agg, how='left', on='SK_ID_CURR')\n",
    "    \n",
    "    # Previous Applications: Refused Applications - only numerical features\n",
    "    refused = prev[prev['NAME_CONTRACT_STATUS_Refused'] == 1]\n",
    "    refused_agg = refused.groupby('SK_ID_CURR').agg(num_aggregations)\n",
    "    refused_agg.columns = pd.Index(['REFUSED_' + e[0] + \"_\" + e[1].upper() \\\n",
    "                                   for e in refused_agg.columns.tolist()])\n",
    "    prev_agg = prev_agg.join(refused_agg, how='left', on='SK_ID_CURR')\n",
    "    del refused, refused_agg, approved, approved_agg, prev\n",
    "    gc.collect()\n",
    "    return prev_agg\n"
   ]
  },
  {
   "cell_type": "code",
   "execution_count": 6,
   "metadata": {},
   "outputs": [],
   "source": [
    "# Preprocess POS_CASH_balance.csv\n",
    "def pos_cash(nan_as_category=True):\n",
    "    pos = pd.read_csv(DIRSOURCE+'POS_CASH_balance.csv',\n",
    "                      encoding='Latin-1')\n",
    "    \n",
    "    pos, cat_cols = one_hot_encoder(pos,\n",
    "                                    nan_as_category=nan_as_category)\n",
    "    \n",
    "    # Features\n",
    "    aggregations = {\n",
    "        'MONTHS_BALANCE': ['max', 'mean', 'size'],\n",
    "        'SK_DPD': ['max', 'mean'],\n",
    "        'SK_DPD_DEF': ['max', 'mean']\n",
    "    }\n",
    "    for cat in cat_cols:\n",
    "        aggregations[cat] = ['mean']\n",
    "    \n",
    "    pos_agg = pos.groupby('SK_ID_CURR').agg(aggregations)\n",
    "    pos_agg.columns = pd.Index(['POS_' + e[0] + \"_\" + e[1].upper() \\\n",
    "                               for e in pos_agg.columns.tolist()])\n",
    "    \n",
    "    # Count pos cash accounts\n",
    "    pos_agg['POS_COUNT'] = pos.groupby('SK_ID_CURR').size()\n",
    "    del pos\n",
    "    gc.collect()\n",
    "    return pos_agg\n"
   ]
  },
  {
   "cell_type": "code",
   "execution_count": 7,
   "metadata": {},
   "outputs": [],
   "source": [
    "# Preprocess installments_payments.csv\n",
    "def installments_payments(nan_as_category=True, col_log=False):\n",
    "    if not col_log:\n",
    "        ins = pd.read_csv(DIRSOURCE+'installments_payments.csv',\n",
    "                          encoding='Latin-1')\n",
    "    else:\n",
    "        ins = pd.read_csv(DIRSOURCE+'installments_payments_log.csv',\n",
    "                          encoding='Latin-1', sep='\\t')\n",
    "\n",
    "    ins, cat_cols = one_hot_encoder(ins,\n",
    "                                    nan_as_category=nan_as_category)\n",
    "    \n",
    "    # Percent & diff paid in each installment\n",
    "    # (amount paid & installment value)\n",
    "    # ISSUE WITH PERC, SOME DIVISOR = 0\n",
    "    # ins['PAYMENT_PERC'] = ins['AMT_PAYMENT'] / ins['AMT_INSTALMENT']\n",
    "    ins['PAYMENT_DIFF'] = ins['AMT_INSTALMENT'] - ins['AMT_PAYMENT']\n",
    "    \n",
    "    # Days past due and days before due (no negative values)\n",
    "    ins['DPD'] = ins['DAYS_ENTRY_PAYMENT'] - ins['DAYS_INSTALMENT']\n",
    "    ins['DBD'] = ins['DAYS_INSTALMENT'] - ins['DAYS_ENTRY_PAYMENT']\n",
    "    ins['DPD'] = ins['DPD'].apply(lambda x: x if x > 0 else 0)\n",
    "    ins['DBD'] = ins['DBD'].apply(lambda x: x if x > 0 else 0)\n",
    "    \n",
    "    # Features: Perform aggregations\n",
    "    aggregations = {\n",
    "        'NUM_INSTALMENT_VERSION': ['nunique'],\n",
    "        'DPD': ['max', 'mean', 'sum'],\n",
    "        'DBD': ['max', 'mean', 'sum'],\n",
    "        # 'PAYMENT_PERC': ['max', 'mean', 'sum', 'var'],\n",
    "        'PAYMENT_DIFF': ['max', 'mean', 'sum', 'var'],\n",
    "        'AMT_INSTALMENT': ['max', 'mean', 'sum'],\n",
    "        'AMT_PAYMENT': ['min', 'max', 'mean', 'sum'],\n",
    "        'DAYS_ENTRY_PAYMENT': ['max', 'mean', 'sum']\n",
    "    }\n",
    "    for cat in cat_cols:\n",
    "        aggregations[cat] = ['mean']\n",
    "    ins_agg = ins.groupby('SK_ID_CURR').agg(aggregations)\n",
    "    ins_agg.columns = pd.Index(['INSTAL_' + e[0] + \"_\" + e[1].upper() \\\n",
    "                               for e in ins_agg.columns.tolist()])\n",
    "    \n",
    "    # Count installments accounts\n",
    "    ins_agg['INSTAL_COUNT'] = ins.groupby('SK_ID_CURR').size()\n",
    "    del ins\n",
    "    gc.collect()\n",
    "    return ins_agg\n"
   ]
  },
  {
   "cell_type": "code",
   "execution_count": 8,
   "metadata": {},
   "outputs": [],
   "source": [
    "# Preprocess credit_card_balance.csv\n",
    "def credit_card_balance(nan_as_category=True, col_log=False):\n",
    "    if not col_log:\n",
    "        cc = pd.read_csv(DIRSOURCE+'credit_card_balance.csv',\n",
    "                         encoding='Latin-1')\n",
    "    else:\n",
    "        cc = pd.read_csv(DIRSOURCE+'credit_card_balance_log.csv',\n",
    "                         encoding='Latin-1', sep='\\t')\n",
    "\n",
    "    cc, cat_cols = one_hot_encoder(cc,\n",
    "                                   nan_as_category=nan_as_category)\n",
    "    \n",
    "    # General aggregations\n",
    "    cc.drop(['SK_ID_PREV'], axis= 1, inplace = True)\n",
    "    cc_agg = cc.groupby('SK_ID_CURR')\\\n",
    "               .agg(['min', 'max', 'mean', 'sum', 'var'])\n",
    "    cc_agg.columns = pd.Index(['CC_' + e[0] + \"_\" + e[1].upper() \\\n",
    "                              for e in cc_agg.columns.tolist()])\n",
    "    \n",
    "    # Count credit card lines\n",
    "    cc_agg['CC_COUNT'] = cc.groupby('SK_ID_CURR').size()\n",
    "    del cc\n",
    "    gc.collect()\n",
    "    return cc_agg\n"
   ]
  },
  {
   "cell_type": "markdown",
   "metadata": {},
   "source": [
    "### 2.2 Grouping and joining files - With standard Data (no log transformation)"
   ]
  },
  {
   "cell_type": "markdown",
   "metadata": {},
   "source": [
    "> joints require to read the complete files out of \"application_train/test\" in order to retrieve all lines with keys in selected rows (NUMROWS)"
   ]
  },
  {
   "cell_type": "code",
   "execution_count": 9,
   "metadata": {},
   "outputs": [
    {
     "name": "stdout",
     "output_type": "stream",
     "text": [
      "Concat train samples: 15000, test samples: 15000, shape: (30000, 240)\n",
      "Join Bureau & Bureau_balance SK_ID_BUREAU, group by SK_ID_CURR, shape: (305811, 116)\n",
      "Group Previous applications by SK_ID_CURR, shape: (338857, 237)\n",
      "Group Pos-cash balance by SK_ID_CURR, shape: (337252, 18)\n",
      "Group Installments payments by SK_ID_CURR, shape: (339587, 22)\n",
      "Group Credit card balance by SK_ID_CURR, shape: (103558, 141)\n",
      "After 0:01:53.118157, join results in Application, shape: (30000, 774)\n"
     ]
    }
   ],
   "source": [
    "d1 = datetime.now()\n",
    "\n",
    "df = application_train_test(num_rows=NUMROWS)\n",
    "print(f'Concat train samples: {NUMROWS}, test samples: {NUMROWS}, shape: {df.shape}')\n",
    "\n",
    "bureau = bureau_and_balance()\n",
    "print(f'Join Bureau & Bureau_balance SK_ID_BUREAU, group by SK_ID_CURR, shape: {bureau.shape}')\n",
    "df = df.join(bureau, how='left', on='SK_ID_CURR')\n",
    "del bureau\n",
    "gc.collect()\n",
    "\n",
    "prev = previous_applications()\n",
    "print(f'Group Previous applications by SK_ID_CURR, shape: {prev.shape}')\n",
    "df = df.join(prev, how='left', on='SK_ID_CURR')\n",
    "del prev\n",
    "gc.collect()\n",
    "\n",
    "pos = pos_cash()\n",
    "print(f'Group Pos-cash balance by SK_ID_CURR, shape: {pos.shape}')\n",
    "df = df.join(pos, how='left', on='SK_ID_CURR')\n",
    "del pos\n",
    "gc.collect()\n",
    "\n",
    "ins = installments_payments()\n",
    "print(f'Group Installments payments by SK_ID_CURR, shape: {ins.shape}')\n",
    "df = df.join(ins, how='left', on='SK_ID_CURR')\n",
    "del ins\n",
    "gc.collect()\n",
    "\n",
    "cc = credit_card_balance()\n",
    "print(f'Group Credit card balance by SK_ID_CURR, shape: {cc.shape}')\n",
    "df = df.join(cc, how='left', on='SK_ID_CURR')\n",
    "del cc\n",
    "gc.collect()\n",
    "\n",
    "print(f'After {datetime.now()-d1}, join results in Application, shape: {df.shape}')\n"
   ]
  },
  {
   "cell_type": "markdown",
   "metadata": {},
   "source": [
    "#### Reverse target, Set to 1 positive loans, 0 with payment difficulties \n",
    "#### Set target of test set to 999\n",
    "#### Fill other NaNs with 0 (could be completed with alternate methods); Save to disk"
   ]
  },
  {
   "cell_type": "code",
   "execution_count": 10,
   "metadata": {},
   "outputs": [
    {
     "name": "stdout",
     "output_type": "stream",
     "text": [
      "File saved ./credithome_datasets/Credit_Home_Junction_Std_Fnan0_15000.csv, shape: (30000, 774)\n"
     ]
    },
    {
     "data": {
      "text/plain": [
       "16"
      ]
     },
     "execution_count": 10,
     "metadata": {},
     "output_type": "execute_result"
    }
   ],
   "source": [
    "df['TARGET'] = 1 - df['TARGET']\n",
    "df['TARGET'].fillna(999, inplace=True)\n",
    "df.fillna(0, inplace=True)\n",
    "\n",
    "df.to_csv(FILESTD_FNAN0, index=None, sep='\\t')\n",
    "print(f'File saved {FILESTD_FNAN0}, shape: {df.shape}')\n",
    "\n",
    "del df\n",
    "gc.collect()\n"
   ]
  },
  {
   "cell_type": "markdown",
   "metadata": {},
   "source": [
    "### 2.3 Grouping and joining files - With log Data (log transformation of some columns)"
   ]
  },
  {
   "cell_type": "code",
   "execution_count": 11,
   "metadata": {},
   "outputs": [
    {
     "name": "stdout",
     "output_type": "stream",
     "text": [
      "Concat train samples: 15000, test samples: 15000, shape: (30000, 240)\n",
      "Join Bureau & Bureau_balance SK_ID_BUREAU, group by SK_ID_CURR, shape: (305811, 116)\n",
      "Group Previous applications (log) by SK_ID_CURR, shape: (338857, 237)\n",
      "Group Pos-cash balance by SK_ID_CURR, shape: (337252, 18)\n",
      "Group Installments payments (log) by SK_ID_CURR, shape: (339587, 22)\n",
      "Group Credit card balance (log) by SK_ID_CURR, shape: (103558, 141)\n",
      "After 0:02:02.409022, join results in Application, shape: (30000, 774)\n"
     ]
    }
   ],
   "source": [
    "d1 = datetime.now()\n",
    "\n",
    "df = application_train_test(num_rows=NUMROWS)\n",
    "print(f'Concat train samples: {NUMROWS}, test samples: {NUMROWS}, shape: {df.shape}')\n",
    "\n",
    "bureau = bureau_and_balance()\n",
    "print(f'Join Bureau & Bureau_balance SK_ID_BUREAU, group by SK_ID_CURR, shape: {bureau.shape}')\n",
    "df = df.join(bureau, how='left', on='SK_ID_CURR')\n",
    "del bureau\n",
    "gc.collect()\n",
    "\n",
    "prev = previous_applications(col_log=True)\n",
    "print(f'Group Previous applications (log) by SK_ID_CURR, shape: {prev.shape}')\n",
    "df = df.join(prev, how='left', on='SK_ID_CURR')\n",
    "del prev\n",
    "gc.collect()\n",
    "\n",
    "pos = pos_cash()\n",
    "print(f'Group Pos-cash balance by SK_ID_CURR, shape: {pos.shape}')\n",
    "df = df.join(pos, how='left', on='SK_ID_CURR')\n",
    "del pos\n",
    "gc.collect()\n",
    "\n",
    "ins = installments_payments(col_log=True)\n",
    "print(f'Group Installments payments (log) by SK_ID_CURR, shape: {ins.shape}')\n",
    "df = df.join(ins, how='left', on='SK_ID_CURR')\n",
    "del ins\n",
    "gc.collect()\n",
    "\n",
    "cc = credit_card_balance(col_log=True)\n",
    "print(f'Group Credit card balance (log) by SK_ID_CURR, shape: {cc.shape}')\n",
    "df = df.join(cc, how='left', on='SK_ID_CURR')\n",
    "del cc\n",
    "gc.collect()\n",
    "\n",
    "print(f'After {datetime.now()-d1}, join results in Application, shape: {df.shape}')"
   ]
  },
  {
   "cell_type": "code",
   "execution_count": 12,
   "metadata": {},
   "outputs": [
    {
     "name": "stdout",
     "output_type": "stream",
     "text": [
      "File saved ./credithome_datasets/Credit_Home_Junction_Log_Fnan0_15000.csv, shape: (30000, 774)\n"
     ]
    },
    {
     "data": {
      "text/plain": [
       "16"
      ]
     },
     "execution_count": 12,
     "metadata": {},
     "output_type": "execute_result"
    }
   ],
   "source": [
    "df['TARGET'] = 1 - df['TARGET']\n",
    "df['TARGET'].fillna(999, inplace=True)\n",
    "df.fillna(0, inplace=True)\n",
    "\n",
    "df.to_csv(FILELOG_FNAN0, index=None, sep='\\t')\n",
    "print(f'File saved {FILELOG_FNAN0}, shape: {df.shape}')\n",
    "\n",
    "del df\n",
    "gc.collect()"
   ]
  },
  {
   "cell_type": "code",
   "execution_count": null,
   "metadata": {},
   "outputs": [],
   "source": []
  }
 ],
 "metadata": {
  "kernelspec": {
   "display_name": "Python 3.8.8 ('base')",
   "language": "python",
   "name": "python3"
  },
  "language_info": {
   "codemirror_mode": {
    "name": "ipython",
    "version": 3
   },
   "file_extension": ".py",
   "mimetype": "text/x-python",
   "name": "python",
   "nbconvert_exporter": "python",
   "pygments_lexer": "ipython3",
   "version": "3.8.8"
  },
  "orig_nbformat": 4,
  "vscode": {
   "interpreter": {
    "hash": "438838f77353e196c1617684cb98b864bf1da2ed28cf8470ba0df88c56da92f6"
   }
  }
 },
 "nbformat": 4,
 "nbformat_minor": 2
}
